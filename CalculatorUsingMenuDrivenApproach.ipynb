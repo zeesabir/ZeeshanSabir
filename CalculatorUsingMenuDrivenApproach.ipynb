{
 "cells": [
  {
   "cell_type": "markdown",
   "metadata": {},
   "source": [
    "<font color='LightGreen'># Program a Calculator using Menu driven approach and perform the selected Operation</font>"
   ]
  },
  {
   "cell_type": "code",
   "execution_count": null,
   "metadata": {},
   "outputs": [],
   "source": [
    "operation = input('''\n",
    "1. Addition (+)\n",
    "2. Subtraction (-)\n",
    "3. Multiplication (*)\n",
    "4. Division (/)\n",
    "''')\n",
    "\n",
    "while operation not in ['1', '2', '3', '4']:\n",
    "  print(f'Invalid selection please start again')\n",
    "  operation = input('''\n",
    "1. Addition (+)\n",
    "2. Subtraction (-)\n",
    "3. Multiplication (*)\n",
    "4. Division (/)\n",
    "''')\n",
    "\n",
    "num1 = float(input(\"Enter number: \"))\n",
    "\n",
    "num2 = float(input(\"Enter number: \"))\n",
    "\n",
    "if operation == '1':\n",
    "  selection = 'Addition'\n",
    "  result = num1 + num2\n",
    "\n",
    "elif operation == '2':\n",
    "  selection = 'Subtraction'\n",
    "  result = num1 - num2\n",
    "\n",
    "elif operation == '3':\n",
    "  selection = 'Multiplication'\n",
    "  result = num1 * num2\n",
    "\n",
    "elif operation == '4':\n",
    "  selection = 'Division'\n",
    "  result = num1 / num2\n",
    "\n",
    "else:\n",
    "  print(f'Invalid selection please start again.')\n",
    "\n",
    "print(f'Result {num1} {selection} {num2} is: {result:,.2f}')"
   ]
  }
 ],
 "metadata": {
  "kernelspec": {
   "display_name": "Python 3",
   "language": "python",
   "name": "python3"
  },
  "language_info": {
   "codemirror_mode": {
    "name": "ipython",
    "version": 3
   },
   "file_extension": ".py",
   "mimetype": "text/x-python",
   "name": "python",
   "nbconvert_exporter": "python",
   "pygments_lexer": "ipython3",
   "version": "3.12.5"
  }
 },
 "nbformat": 4,
 "nbformat_minor": 2
}
