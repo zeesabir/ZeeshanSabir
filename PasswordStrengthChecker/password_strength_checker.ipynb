{
 "cells": [
  {
   "cell_type": "code",
   "execution_count": 9,
   "metadata": {},
   "outputs": [
    {
     "name": "stdout",
     "output_type": "stream",
     "text": [
      "Welcome to the Password Strength Checker!\n",
      "Password is Moderate.\n"
     ]
    }
   ],
   "source": [
    "import re\n",
    "\n",
    "def check_password_strength(password):\n",
    "    \"\"\"\n",
    "    Check the strength of a password based on length, special characters, numbers, and uppercase letters,\n",
    "    and provide a strength level along with suggestions for improvement.\n",
    "    \n",
    "    Parameters:\n",
    "    - password (str): The password to check.\n",
    "    \n",
    "    Returns:\n",
    "    - str: A message indicating the strength level of the password and suggestions for improvement if needed.\n",
    "    \"\"\"\n",
    "    # Criteria\n",
    "    length = len(password)\n",
    "    length_criteria = length >= 8\n",
    "    special_char_criteria = bool(re.search(r'[!@#$%^&*(),.?\":{}|<>]', password))\n",
    "    number_criteria = bool(re.search(r'\\d', password))\n",
    "    uppercase_criteria = bool(re.search(r'[A-Z]', password))\n",
    "\n",
    "    # Calculate strength score\n",
    "    score = 0\n",
    "    if length_criteria:\n",
    "        score += 1\n",
    "    if special_char_criteria:\n",
    "        score += 1\n",
    "    if number_criteria:\n",
    "        score += 1\n",
    "    if uppercase_criteria:\n",
    "        score += 1\n",
    "\n",
    "    # Determine strength level\n",
    "    if score == 4:\n",
    "        strength_level = \"Strong\"\n",
    "    elif score == 3:\n",
    "        strength_level = \"Moderate\"\n",
    "    elif score == 2:\n",
    "        strength_level = \"Weak\"\n",
    "    else:\n",
    "        strength_level = \"Very Weak\"\n",
    "\n",
    "    # Generate suggestions if weak\n",
    "    if strength_level in [\"Weak\", \"Very Weak\"]:\n",
    "        suggestions = []\n",
    "        if not length_criteria:\n",
    "            suggestions.append(\"Add more characters (at least 8).\")\n",
    "        if not special_char_criteria:\n",
    "            suggestions.append(\"Include special characters like !@#$%^&*()\")\n",
    "        if not number_criteria:\n",
    "            suggestions.append(\"Add numbers.\")\n",
    "        if not uppercase_criteria:\n",
    "            suggestions.append(\"Include uppercase letters.\")\n",
    "        \n",
    "        return f\"Password is {strength_level}. Suggestions: \" + \", \".join(suggestions)\n",
    "    else:\n",
    "        return f\"Password is {strength_level}.\"\n",
    "\n",
    "def main():\n",
    "    print(\"Welcome to the Password Strength Checker!\")\n",
    "    password = input(\"Enter your password: \")\n",
    "    strength_message = check_password_strength(password)\n",
    "    print(strength_message)\n",
    "\n",
    "if __name__ == \"__main__\":\n",
    "    main()\n"
   ]
  }
 ],
 "metadata": {
  "kernelspec": {
   "display_name": "Python 3",
   "language": "python",
   "name": "python3"
  },
  "language_info": {
   "codemirror_mode": {
    "name": "ipython",
    "version": 3
   },
   "file_extension": ".py",
   "mimetype": "text/x-python",
   "name": "python",
   "nbconvert_exporter": "python",
   "pygments_lexer": "ipython3",
   "version": "3.12.5"
  }
 },
 "nbformat": 4,
 "nbformat_minor": 2
}
