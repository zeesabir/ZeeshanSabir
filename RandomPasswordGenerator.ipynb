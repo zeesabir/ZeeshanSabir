{
 "cells": [
  {
   "cell_type": "code",
   "execution_count": 2,
   "metadata": {},
   "outputs": [
    {
     "name": "stdout",
     "output_type": "stream",
     "text": [
      "Welcome to the Random Password Generator!\n",
      "Generated Password 1: 25aF,yf_;[8P3k;7\n",
      "Generated Password 2: Cw7wiif0!,L8l\"t/\n",
      "Generated Password 3: @7grT1`ppojzM#&}\n",
      "Generated Password 4: j!J\"vJ5wPB[RC4]P\n",
      "Generated Password 5: )~wff[a%qwm.^7tV\n",
      "Generated Password 6: 1%_FC{4C=e?+q1;{\n",
      "Generated Password 7: p-t$'/ed\"#a=@.|x\n",
      "Generated Password 8: Gs;AoAJR\"5H/QB(,\n",
      "Generated Password 9: 4~4\"-(V*b|(kR)|+\n",
      "Generated Password 10: ES*$Mu2vkstBN;ob\n",
      "Passwords saved to passwords.csv.\n"
     ]
    }
   ],
   "source": [
    "import random\n",
    "import csv\n",
    "import string\n",
    "\n",
    "def generate_password(length, use_special, use_lowercase, use_uppercase, use_numbers):\n",
    "    characters = ''\n",
    "    if use_lowercase:\n",
    "        characters += string.ascii_lowercase\n",
    "    if use_uppercase:\n",
    "        characters += string.ascii_uppercase\n",
    "    if use_numbers:\n",
    "        characters += string.digits\n",
    "    if use_special:\n",
    "        characters += string.punctuation\n",
    "\n",
    "    if not characters:  # If no character type is selected, return an empty password.\n",
    "        return ''\n",
    "\n",
    "    password = ''.join(random.choice(characters) for _ in range(length))\n",
    "    return password\n",
    "\n",
    "def save_passwords_to_csv(passwords, filename='passwords.csv'):\n",
    "    with open(filename, mode='a', newline='') as file:\n",
    "        writer = csv.writer(file)\n",
    "        for password in passwords:\n",
    "            writer.writerow([password])\n",
    "    print(f\"Passwords saved to {filename}.\")\n",
    "\n",
    "def main():\n",
    "    print(\"Welcome to the Random Password Generator!\")\n",
    "\n",
    "    try:\n",
    "        num_passwords = int(input(\"How many passwords do you want to generate? \"))\n",
    "        length = int(input(\"Enter the desired password length: \"))\n",
    "        use_special = input(\"Include special characters? (yes/no): \").lower() == 'yes'\n",
    "        use_lowercase = input(\"Include lowercase letters? (yes/no): \").lower() == 'yes'\n",
    "        use_uppercase = input(\"Include uppercase letters? (yes/no): \").lower() == 'yes'\n",
    "        use_numbers = input(\"Include numbers? (yes/no): \").lower() == 'yes'\n",
    "\n",
    "        passwords = []\n",
    "        for _ in range(num_passwords):\n",
    "            password = generate_password(length, use_special, use_lowercase, use_uppercase, use_numbers)\n",
    "            if password:\n",
    "                passwords.append(password)\n",
    "        \n",
    "        if passwords:\n",
    "            for i, password in enumerate(passwords, start=1):\n",
    "                print(f\"Generated Password {i}: {password}\")\n",
    "\n",
    "            save_option = input(\"Would you like to save these passwords? (yes/no): \").lower()\n",
    "            if save_option == 'yes':\n",
    "                save_passwords_to_csv(passwords)\n",
    "            else:\n",
    "                print(\"Passwords not saved.\")\n",
    "        else:\n",
    "            print(\"No valid character types selected. Passwords not generated.\")\n",
    "\n",
    "    except ValueError:\n",
    "        print(\"Invalid input! Please enter valid numbers.\")\n",
    "\n",
    "if __name__ == \"__main__\":\n",
    "    main()\n"
   ]
  }
 ],
 "metadata": {
  "kernelspec": {
   "display_name": "Python 3",
   "language": "python",
   "name": "python3"
  },
  "language_info": {
   "codemirror_mode": {
    "name": "ipython",
    "version": 3
   },
   "file_extension": ".py",
   "mimetype": "text/x-python",
   "name": "python",
   "nbconvert_exporter": "python",
   "pygments_lexer": "ipython3",
   "version": "3.12.5"
  }
 },
 "nbformat": 4,
 "nbformat_minor": 2
}
